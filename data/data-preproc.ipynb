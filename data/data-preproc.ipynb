{
 "cells": [
  {
   "cell_type": "code",
   "execution_count": 1,
   "metadata": {},
   "outputs": [],
   "source": [
    "import numpy as np\n",
    "import pandas as pd\n",
    "import matplotlib.pyplot as plt\n",
    "import nltk\n",
    "import re\n",
    "import string\n",
    "import json"
   ]
  },
  {
   "cell_type": "code",
   "execution_count": 8,
   "metadata": {},
   "outputs": [],
   "source": [
    "# raw_data = pd.read_csv(\"./Aktify/home_security_multi_intent.csv\")[[\"phrase\", \"intents\"]]\n",
    "raw_data = pd.read_csv(\"./Aktify/credit_repair_multi_intent.csv\")[[\"phrase\", \"intents\"]]"
   ]
  },
  {
   "cell_type": "code",
   "execution_count": 9,
   "metadata": {},
   "outputs": [
    {
     "data": {
      "text/plain": [
       "0       Can you call me on Monday right now I'm babysi...\n",
       "1       I want your help,  but when I'M ready!.....I g...\n",
       "2       Sorry I'm dealing with a family situation righ...\n",
       "3       Last time I used you guys you charged me for a...\n",
       "4       Will not using ur services I was told before s...\n",
       "                              ...                        \n",
       "4607    $[MONEY_1] a month only for the first month or...\n",
       "4608    I have some insurance with [ORGANIZATION_1]. T...\n",
       "4609    Hey sorry i keep missing your calls im still u...\n",
       "4610    Uhm, no I don't think I'm interested at all. Y...\n",
       "4611    Hello would you please stop texting me you've ...\n",
       "Name: phrase, Length: 4612, dtype: object"
      ]
     },
     "execution_count": 9,
     "metadata": {},
     "output_type": "execute_result"
    }
   ],
   "source": [
    "raw_data[\"phrase\"]"
   ]
  },
  {
   "cell_type": "code",
   "execution_count": 10,
   "metadata": {},
   "outputs": [],
   "source": [
    "def processing_data(raw_data):\n",
    "    special_char = '\\@_!-#$%^&*()<>?/.\\|}{~:;[],\"\\\"'\n",
    "    emoji_pattern = re.compile(\"[\"\n",
    "            u\"\\U0001F600-\\U0001F64F\"  # emoticons\n",
    "            u\"\\U0001F300-\\U0001F5FF\"  # symbols & pictographs\n",
    "            u\"\\U0001F680-\\U0001F6FF\"  # transport & map symbols\n",
    "            u\"\\U0001F1E0-\\U0001F1FF\"  # flags (iOS)\n",
    "                               \"]+\", flags=re.UNICODE)\n",
    "    raw_utterance = [i.lower() for i in raw_data[\"phrase\"]]\n",
    "    raw_utterance1 = []\n",
    "\n",
    "    for utt in raw_utterance:\n",
    "        new_utt = ''.join((filter(lambda i: i not in special_char, utt)))\n",
    "        new_utt = re.sub(\"[\\n]\",\" \", new_utt)\n",
    "        new_utt = re.sub(emoji_pattern, \"\", new_utt)\n",
    "        new_utt = re.sub(\"[ ]+\", \" \" , new_utt)\n",
    "        raw_utterance1.append(new_utt)\n",
    "    return raw_utterance1"
   ]
  },
  {
   "cell_type": "code",
   "execution_count": 11,
   "metadata": {},
   "outputs": [],
   "source": [
    "raw_data[\"phrase\"] = processing_data(raw_data)"
   ]
  },
  {
   "cell_type": "code",
   "execution_count": null,
   "metadata": {},
   "outputs": [],
   "source": []
  },
  {
   "cell_type": "code",
   "execution_count": 12,
   "metadata": {},
   "outputs": [],
   "source": [
    "def processing_label(raw_data):\n",
    "    raw_intent = [i for i in raw_data[\"intents\"]]\n",
    "    intent_list = []\n",
    "    chars = re.escape(string.punctuation)\n",
    "    for sample_intent in raw_intent:\n",
    "        sample_intent1 = [\"_\".join(re.sub(r'['+chars+']', \" \", i).strip().split(\" \")[1:]) \n",
    "                          for i in sample_intent.split(\",\")]\n",
    "        intent_list.append(sample_intent1)\n",
    "\n",
    "    return intent_list"
   ]
  },
  {
   "cell_type": "code",
   "execution_count": 13,
   "metadata": {},
   "outputs": [
    {
     "ename": "NameError",
     "evalue": "name 'raw_utterance1' is not defined",
     "output_type": "error",
     "traceback": [
      "\u001b[0;31m---------------------------------------------------------------------------\u001b[0m",
      "\u001b[0;31mNameError\u001b[0m                                 Traceback (most recent call last)",
      "\u001b[0;32m<ipython-input-13-12433de4f04c>\u001b[0m in \u001b[0;36m<module>\u001b[0;34m\u001b[0m\n\u001b[1;32m      1\u001b[0m \u001b[0;32mwith\u001b[0m \u001b[0mopen\u001b[0m\u001b[0;34m(\u001b[0m\u001b[0;34m'processed_utterance.json'\u001b[0m\u001b[0;34m,\u001b[0m \u001b[0;34m'w'\u001b[0m\u001b[0;34m)\u001b[0m \u001b[0;32mas\u001b[0m \u001b[0mf\u001b[0m\u001b[0;34m:\u001b[0m\u001b[0;34m\u001b[0m\u001b[0;34m\u001b[0m\u001b[0m\n\u001b[0;32m----> 2\u001b[0;31m     \u001b[0mjson\u001b[0m\u001b[0;34m.\u001b[0m\u001b[0mdump\u001b[0m\u001b[0;34m(\u001b[0m\u001b[0mraw_utterance1\u001b[0m\u001b[0;34m,\u001b[0m \u001b[0mf\u001b[0m\u001b[0;34m)\u001b[0m\u001b[0;34m\u001b[0m\u001b[0;34m\u001b[0m\u001b[0m\n\u001b[0m\u001b[1;32m      3\u001b[0m \u001b[0;34m\u001b[0m\u001b[0m\n\u001b[1;32m      4\u001b[0m \u001b[0;32mwith\u001b[0m \u001b[0mopen\u001b[0m\u001b[0;34m(\u001b[0m\u001b[0;34m'processed_intents.json'\u001b[0m\u001b[0;34m,\u001b[0m \u001b[0;34m'w'\u001b[0m\u001b[0;34m)\u001b[0m \u001b[0;32mas\u001b[0m \u001b[0mf\u001b[0m\u001b[0;34m:\u001b[0m\u001b[0;34m\u001b[0m\u001b[0;34m\u001b[0m\u001b[0m\n\u001b[1;32m      5\u001b[0m     \u001b[0mjson\u001b[0m\u001b[0;34m.\u001b[0m\u001b[0mdump\u001b[0m\u001b[0;34m(\u001b[0m\u001b[0mintent_list\u001b[0m\u001b[0;34m,\u001b[0m \u001b[0mf\u001b[0m\u001b[0;34m)\u001b[0m\u001b[0;34m\u001b[0m\u001b[0;34m\u001b[0m\u001b[0m\n",
      "\u001b[0;31mNameError\u001b[0m: name 'raw_utterance1' is not defined"
     ]
    }
   ],
   "source": [
    "\n",
    "with open('processed_utterance.json', 'w') as f:\n",
    "    json.dump(raw_utterance1, f)\n",
    "\n",
    "with open('processed_intents.json', 'w') as f:\n",
    "    json.dump(intent_list, f)"
   ]
  },
  {
   "cell_type": "code",
   "execution_count": 15,
   "metadata": {},
   "outputs": [
    {
     "ename": "NameError",
     "evalue": "name 'intent_list' is not defined",
     "output_type": "error",
     "traceback": [
      "\u001b[0;31m---------------------------------------------------------------------------\u001b[0m",
      "\u001b[0;31mNameError\u001b[0m                                 Traceback (most recent call last)",
      "\u001b[0;32m<ipython-input-15-86891dbc0f2d>\u001b[0m in \u001b[0;36m<module>\u001b[0;34m\u001b[0m\n\u001b[0;32m----> 1\u001b[0;31m \u001b[0munique\u001b[0m \u001b[0;34m=\u001b[0m \u001b[0;34m[\u001b[0m\u001b[0mx\u001b[0m \u001b[0;32mfor\u001b[0m \u001b[0mx\u001b[0m \u001b[0;32min\u001b[0m \u001b[0mset\u001b[0m\u001b[0;34m(\u001b[0m\u001b[0;34m[\u001b[0m\u001b[0mj\u001b[0m \u001b[0;32mfor\u001b[0m \u001b[0mi\u001b[0m \u001b[0;32min\u001b[0m \u001b[0mintent_list\u001b[0m \u001b[0;32mfor\u001b[0m \u001b[0mj\u001b[0m \u001b[0;32min\u001b[0m \u001b[0mi\u001b[0m\u001b[0;34m]\u001b[0m\u001b[0;34m)\u001b[0m\u001b[0;34m]\u001b[0m\u001b[0;34m\u001b[0m\u001b[0;34m\u001b[0m\u001b[0m\n\u001b[0m",
      "\u001b[0;31mNameError\u001b[0m: name 'intent_list' is not defined"
     ]
    }
   ],
   "source": [
    "unique = [x for x in set([j for i in intent_list for j in i])]"
   ]
  },
  {
   "cell_type": "code",
   "execution_count": null,
   "metadata": {},
   "outputs": [],
   "source": [
    "len(unique)"
   ]
  },
  {
   "cell_type": "code",
   "execution_count": 11,
   "metadata": {},
   "outputs": [],
   "source": [
    "intent_count = {}\n",
    "all_intents = [j for i in intent_list for j in i]\n",
    "for i in all_intents:\n",
    "    if i not in intent_count:\n",
    "        intent_count[i] = 1\n",
    "    else:\n",
    "        intent_count[i] += 1\n",
    "intent_name = []\n",
    "intent_count_val = []\n",
    "for i in intent_count:\n",
    "    intent_name.append(i)\n",
    "    intent_count_val.append(intent_count[i])\n",
    "    \n",
    "\n",
    "name_dict = {}\n",
    "for i in range(len(intent_name)):\n",
    "    name_dict[i] = intent_name[i]"
   ]
  },
  {
   "cell_type": "code",
   "execution_count": 12,
   "metadata": {},
   "outputs": [
    {
     "data": {
      "text/plain": [
       "<BarContainer object of 52 artists>"
      ]
     },
     "execution_count": 12,
     "metadata": {},
     "output_type": "execute_result"
    },
    {
     "data": {
      "image/png": "[encoded data removed]",
      "text/plain": [
       "<Figure size 432x288 with 1 Axes>"
      ]
     },
     "metadata": {
      "needs_background": "light"
     },
     "output_type": "display_data"
    }
   ],
   "source": [
    "plt.bar(name_dict.keys(), intent_count_val)"
   ]
  },
  {
   "cell_type": "code",
   "execution_count": null,
   "metadata": {},
   "outputs": [],
   "source": []
  },
  {
   "cell_type": "code",
   "execution_count": 16,
   "metadata": {},
   "outputs": [],
   "source": [
    "from transformers import BertTokenizer"
   ]
  },
  {
   "cell_type": "code",
   "execution_count": 17,
   "metadata": {},
   "outputs": [
    {
     "ename": "NameError",
     "evalue": "name 'raw_utterance1' is not defined",
     "output_type": "error",
     "traceback": [
      "\u001b[0;31m---------------------------------------------------------------------------\u001b[0m",
      "\u001b[0;31mNameError\u001b[0m                                 Traceback (most recent call last)",
      "\u001b[0;32m<ipython-input-17-24656a3d75e9>\u001b[0m in \u001b[0;36m<module>\u001b[0;34m\u001b[0m\n\u001b[0;32m----> 1\u001b[0;31m \u001b[0mobj\u001b[0m \u001b[0;34m=\u001b[0m \u001b[0mBertTokenizer\u001b[0m\u001b[0;34m.\u001b[0m\u001b[0mfrom_pretrained\u001b[0m\u001b[0;34m(\u001b[0m\u001b[0;34m\"bert-base-uncased\"\u001b[0m\u001b[0;34m)\u001b[0m\u001b[0;34m.\u001b[0m\u001b[0mbatch_encode_plus\u001b[0m\u001b[0;34m(\u001b[0m\u001b[0mraw_utterance1\u001b[0m\u001b[0;34m)\u001b[0m\u001b[0;34m\u001b[0m\u001b[0;34m\u001b[0m\u001b[0m\n\u001b[0m",
      "\u001b[0;31mNameError\u001b[0m: name 'raw_utterance1' is not defined"
     ]
    }
   ],
   "source": [
    "obj = BertTokenizer.from_pretrained(\"bert-base-uncased\").batch_encode_plus(raw_utterance1)"
   ]
  },
  {
   "cell_type": "code",
   "execution_count": null,
   "metadata": {},
   "outputs": [],
   "source": [
    "length = []\n",
    "for i in obj.input_ids:\n",
    "    length.append(len(i))\n"
   ]
  },
  {
   "cell_type": "code",
   "execution_count": 18,
   "metadata": {},
   "outputs": [
    {
     "ename": "NameError",
     "evalue": "name 'length' is not defined",
     "output_type": "error",
     "traceback": [
      "\u001b[0;31m---------------------------------------------------------------------------\u001b[0m",
      "\u001b[0;31mNameError\u001b[0m                                 Traceback (most recent call last)",
      "\u001b[0;32m<ipython-input-18-372f11c4ec31>\u001b[0m in \u001b[0;36m<module>\u001b[0;34m\u001b[0m\n\u001b[0;32m----> 1\u001b[0;31m \u001b[0mlength\u001b[0m\u001b[0;34m.\u001b[0m\u001b[0msort\u001b[0m\u001b[0;34m(\u001b[0m\u001b[0;34m)\u001b[0m\u001b[0;34m\u001b[0m\u001b[0;34m\u001b[0m\u001b[0m\n\u001b[0m",
      "\u001b[0;31mNameError\u001b[0m: name 'length' is not defined"
     ]
    }
   ],
   "source": [
    "length.sort()"
   ]
  },
  {
   "cell_type": "code",
   "execution_count": 19,
   "metadata": {},
   "outputs": [],
   "source": [
    "path = \"./Aktify/credit_repair_multi_intent.csv\""
   ]
  },
  {
   "cell_type": "code",
   "execution_count": 20,
   "metadata": {},
   "outputs": [],
   "source": [
    "raw_data = pd.read_csv(path)[[\"phrase\", \"intents\"]]"
   ]
  },
  {
   "cell_type": "code",
   "execution_count": 21,
   "metadata": {},
   "outputs": [],
   "source": [
    "def processing_data(raw_data):\n",
    "    \n",
    "    special_char = '\\@_!-#$%^&*()<>?/.\\|}{~:;[],\"\\\"'\n",
    "    emoji_pattern = re.compile(\"[\"\n",
    "            u\"\\U0001F600-\\U0001F64F\"  # emoticons\n",
    "            u\"\\U0001F300-\\U0001F5FF\"  # symbols & pictographs\n",
    "            u\"\\U0001F680-\\U0001F6FF\"  # transport & map symbols\n",
    "            u\"\\U0001F1E0-\\U0001F1FF\"  # flags (iOS)\n",
    "                               \"]+\", flags=re.UNICODE)\n",
    "    raw_utterance = [i.lower() for i in raw_data[\"phrase\"]]\n",
    "    raw_utterance1 = []\n",
    "\n",
    "    for utt in raw_utterance:\n",
    "        new_utt = ''.join((filter(lambda i: i not in special_char, utt)))\n",
    "        new_utt = re.sub(\"[\\n]\",\" \", new_utt)\n",
    "        new_utt = re.sub(emoji_pattern, \"\", new_utt)\n",
    "        new_utt = re.sub(\"[ ]+\", \" \" , new_utt)\n",
    "        raw_utterance1.append(new_utt)\n",
    "\n",
    "    raw_intent = [i for i in raw_data[\"intents\"]]\n",
    "    intent_list = []\n",
    "    chars = re.escape(string.punctuation)\n",
    "    for sample_intent in raw_intent:\n",
    "        sample_intent1 = [\"_\".join(re.sub(r'['+chars+']', \" \", i).strip().split(\" \")[1:]) \n",
    "                          for i in sample_intent.split(\",\")]\n",
    "        intent_list.append(sample_intent1)\n",
    "\n",
    "    raw_data[\"intents\"] = intent_list\n",
    "    raw_data[\"phrase\"] = raw_utterance1\n",
    "    \n",
    "    return raw_data"
   ]
  },
  {
   "cell_type": "code",
   "execution_count": 22,
   "metadata": {},
   "outputs": [],
   "source": [
    "raw_data = processing_data(raw_data)"
   ]
  },
  {
   "cell_type": "code",
   "execution_count": 23,
   "metadata": {},
   "outputs": [
    {
     "data": {
      "text/html": [
       "<div>\n",
       "<style scoped>\n",
       "    .dataframe tbody tr th:only-of-type {\n",
       "        vertical-align: middle;\n",
       "    }\n",
       "\n",
       "    .dataframe tbody tr th {\n",
       "        vertical-align: top;\n",
       "    }\n",
       "\n",
       "    .dataframe thead th {\n",
       "        text-align: right;\n",
       "    }\n",
       "</style>\n",
       "<table border=\"1\" class=\"dataframe\">\n",
       "  <thead>\n",
       "    <tr style=\"text-align: right;\">\n",
       "      <th></th>\n",
       "      <th>phrase</th>\n",
       "      <th>intents</th>\n",
       "    </tr>\n",
       "  </thead>\n",
       "  <tbody>\n",
       "    <tr>\n",
       "      <th>0</th>\n",
       "      <td>can you call me on monday right now i'm babysi...</td>\n",
       "      <td>[call_now, delay_hours, confirmation, schedule...</td>\n",
       "    </tr>\n",
       "    <tr>\n",
       "      <th>1</th>\n",
       "      <td>i want your help but when i'm readyi gotta get...</td>\n",
       "      <td>[delay_finances, excessive_contact, delay_eval...</td>\n",
       "    </tr>\n",
       "    <tr>\n",
       "      <th>2</th>\n",
       "      <td>sorry i'm dealing with a family situation righ...</td>\n",
       "      <td>[delay_family_sick, confirmation, schedule_cal...</td>\n",
       "    </tr>\n",
       "    <tr>\n",
       "      <th>3</th>\n",
       "      <td>last time i used you guys you charged me for a...</td>\n",
       "      <td>[credit_history, existing_customer_issue, not_...</td>\n",
       "    </tr>\n",
       "    <tr>\n",
       "      <th>4</th>\n",
       "      <td>will not using ur services i was told before s...</td>\n",
       "      <td>[not_interested, dissatisfied_customer]</td>\n",
       "    </tr>\n",
       "    <tr>\n",
       "      <th>...</th>\n",
       "      <td>...</td>\n",
       "      <td>...</td>\n",
       "    </tr>\n",
       "    <tr>\n",
       "      <th>4607</th>\n",
       "      <td>money1 a month only for the first month or for...</td>\n",
       "      <td>[how_does_it_work, cost_demand]</td>\n",
       "    </tr>\n",
       "    <tr>\n",
       "      <th>4608</th>\n",
       "      <td>i have some insurance with organization1 thank...</td>\n",
       "      <td>[dnc, courtesy_or_statement, chose_competitor,...</td>\n",
       "    </tr>\n",
       "    <tr>\n",
       "      <th>4609</th>\n",
       "      <td>hey sorry i keep missing your calls im still u...</td>\n",
       "      <td>[greeting, delay_sleeping, delay_work, apology]</td>\n",
       "    </tr>\n",
       "    <tr>\n",
       "      <th>4610</th>\n",
       "      <td>uhm no i don't think i'm interested at all you...</td>\n",
       "      <td>[not_interested, negation, dissatisfied_customer]</td>\n",
       "    </tr>\n",
       "    <tr>\n",
       "      <th>4611</th>\n",
       "      <td>hello would you please stop texting me you've ...</td>\n",
       "      <td>[greeting, not_interested, delay_conditional, ...</td>\n",
       "    </tr>\n",
       "  </tbody>\n",
       "</table>\n",
       "<p>4612 rows × 2 columns</p>\n",
       "</div>"
      ],
      "text/plain": [
       "                                                 phrase  \\\n",
       "0     can you call me on monday right now i'm babysi...   \n",
       "1     i want your help but when i'm readyi gotta get...   \n",
       "2     sorry i'm dealing with a family situation righ...   \n",
       "3     last time i used you guys you charged me for a...   \n",
       "4     will not using ur services i was told before s...   \n",
       "...                                                 ...   \n",
       "4607  money1 a month only for the first month or for...   \n",
       "4608  i have some insurance with organization1 thank...   \n",
       "4609  hey sorry i keep missing your calls im still u...   \n",
       "4610  uhm no i don't think i'm interested at all you...   \n",
       "4611  hello would you please stop texting me you've ...   \n",
       "\n",
       "                                                intents  \n",
       "0     [call_now, delay_hours, confirmation, schedule...  \n",
       "1     [delay_finances, excessive_contact, delay_eval...  \n",
       "2     [delay_family_sick, confirmation, schedule_cal...  \n",
       "3     [credit_history, existing_customer_issue, not_...  \n",
       "4               [not_interested, dissatisfied_customer]  \n",
       "...                                                 ...  \n",
       "4607                    [how_does_it_work, cost_demand]  \n",
       "4608  [dnc, courtesy_or_statement, chose_competitor,...  \n",
       "4609    [greeting, delay_sleeping, delay_work, apology]  \n",
       "4610  [not_interested, negation, dissatisfied_customer]  \n",
       "4611  [greeting, not_interested, delay_conditional, ...  \n",
       "\n",
       "[4612 rows x 2 columns]"
      ]
     },
     "execution_count": 23,
     "metadata": {},
     "output_type": "execute_result"
    }
   ],
   "source": [
    "raw_data"
   ]
  },
  {
   "cell_type": "code",
   "execution_count": 24,
   "metadata": {},
   "outputs": [],
   "source": [
    "raw_data = raw_data.sample(frac=1).reset_index(drop=True)"
   ]
  },
  {
   "cell_type": "code",
   "execution_count": 25,
   "metadata": {},
   "outputs": [],
   "source": [
    "test = raw_data.iloc[:200]"
   ]
  },
  {
   "cell_type": "code",
   "execution_count": 26,
   "metadata": {},
   "outputs": [],
   "source": [
    "test.to_csv(\"test.csv\")"
   ]
  },
  {
   "cell_type": "code",
   "execution_count": 27,
   "metadata": {},
   "outputs": [],
   "source": [
    "train = raw_data.iloc[200:]"
   ]
  },
  {
   "cell_type": "code",
   "execution_count": 28,
   "metadata": {},
   "outputs": [],
   "source": [
    "train.to_csv('train.csv')"
   ]
  },
  {
   "cell_type": "code",
   "execution_count": 29,
   "metadata": {},
   "outputs": [],
   "source": [
    "unique = [x for x in set([j for i in raw_data[\"intents\"] for j in i])]"
   ]
  },
  {
   "cell_type": "code",
   "execution_count": 30,
   "metadata": {},
   "outputs": [
    {
     "data": {
      "text/plain": [
       "67"
      ]
     },
     "execution_count": 30,
     "metadata": {},
     "output_type": "execute_result"
    }
   ],
   "source": [
    "len(sorted(unique))"
   ]
  },
  {
   "cell_type": "code",
   "execution_count": 31,
   "metadata": {},
   "outputs": [],
   "source": [
    "train_unique = [x for x in set([j for i in train[\"intents\"] for j in i])]"
   ]
  },
  {
   "cell_type": "code",
   "execution_count": 32,
   "metadata": {},
   "outputs": [
    {
     "data": {
      "text/plain": [
       "67"
      ]
     },
     "execution_count": 32,
     "metadata": {},
     "output_type": "execute_result"
    }
   ],
   "source": [
    "len(train_unique)"
   ]
  },
  {
   "cell_type": "code",
   "execution_count": 33,
   "metadata": {},
   "outputs": [],
   "source": [
    "test_unique = [x for x in set([j for i in test[\"intents\"] for j in i])]"
   ]
  },
  {
   "cell_type": "code",
   "execution_count": 34,
   "metadata": {},
   "outputs": [
    {
     "data": {
      "text/plain": [
       "61"
      ]
     },
     "execution_count": 34,
     "metadata": {},
     "output_type": "execute_result"
    }
   ],
   "source": [
    "len(test_unique)"
   ]
  },
  {
   "cell_type": "code",
   "execution_count": 35,
   "metadata": {},
   "outputs": [
    {
     "name": "stdout",
     "output_type": "stream",
     "text": [
      "4412\n"
     ]
    }
   ],
   "source": [
    "print(len(train))"
   ]
  },
  {
   "cell_type": "code",
   "execution_count": 36,
   "metadata": {},
   "outputs": [
    {
     "name": "stdout",
     "output_type": "stream",
     "text": [
      "200\n"
     ]
    }
   ],
   "source": [
    "print(len(test))"
   ]
  },
  {
   "cell_type": "code",
   "execution_count": 41,
   "metadata": {},
   "outputs": [
    {
     "data": {
      "text/html": [
       "<div>\n",
       "<style scoped>\n",
       "    .dataframe tbody tr th:only-of-type {\n",
       "        vertical-align: middle;\n",
       "    }\n",
       "\n",
       "    .dataframe tbody tr th {\n",
       "        vertical-align: top;\n",
       "    }\n",
       "\n",
       "    .dataframe thead th {\n",
       "        text-align: right;\n",
       "    }\n",
       "</style>\n",
       "<table border=\"1\" class=\"dataframe\">\n",
       "  <thead>\n",
       "    <tr style=\"text-align: right;\">\n",
       "      <th></th>\n",
       "      <th>Unnamed: 0</th>\n",
       "      <th>phrase</th>\n",
       "      <th>intents</th>\n",
       "    </tr>\n",
       "  </thead>\n",
       "  <tbody>\n",
       "    <tr>\n",
       "      <th>0</th>\n",
       "      <td>0</td>\n",
       "      <td>i heard you guys were the best out there right...</td>\n",
       "      <td>['is_interested', 'schedule_call_day_n_time']</td>\n",
       "    </tr>\n",
       "    <tr>\n",
       "      <th>1</th>\n",
       "      <td>1</td>\n",
       "      <td>i didn't schedule a phone call for todayi said...</td>\n",
       "      <td>['delay_will_reply', 'dnc', 'scheduling_mistak...</td>\n",
       "    </tr>\n",
       "    <tr>\n",
       "      <th>2</th>\n",
       "      <td>2</td>\n",
       "      <td>no stop bothering me i don't have credit probl...</td>\n",
       "      <td>['dnc', 'not_interested']</td>\n",
       "    </tr>\n",
       "    <tr>\n",
       "      <th>3</th>\n",
       "      <td>3</td>\n",
       "      <td>that is generous of you but 50 per month is no...</td>\n",
       "      <td>['cost_too_high', 'is_interested', 'how_does_i...</td>\n",
       "    </tr>\n",
       "    <tr>\n",
       "      <th>4</th>\n",
       "      <td>4</td>\n",
       "      <td>i hope you guys aren't taking my money again i...</td>\n",
       "      <td>['existing_customer_issue', 'needs_income']</td>\n",
       "    </tr>\n",
       "    <tr>\n",
       "      <th>...</th>\n",
       "      <td>...</td>\n",
       "      <td>...</td>\n",
       "      <td>...</td>\n",
       "    </tr>\n",
       "    <tr>\n",
       "      <th>195</th>\n",
       "      <td>195</td>\n",
       "      <td>i was interested in you credit assistance but ...</td>\n",
       "      <td>['cost_too_high', 'is_interested', 'needs_inco...</td>\n",
       "    </tr>\n",
       "    <tr>\n",
       "      <th>196</th>\n",
       "      <td>196</td>\n",
       "      <td>thank you i am interested in fixing my credit ...</td>\n",
       "      <td>['courtesy_or_statement', 'is_interested', 'cr...</td>\n",
       "    </tr>\n",
       "    <tr>\n",
       "      <th>197</th>\n",
       "      <td>197</td>\n",
       "      <td>my mother is in the hospital at this time she ...</td>\n",
       "      <td>['delay_sick', 'delay_conditional']</td>\n",
       "    </tr>\n",
       "    <tr>\n",
       "      <th>198</th>\n",
       "      <td>198</td>\n",
       "      <td>i wasn't overly happy with your service no pro...</td>\n",
       "      <td>['dissatisfied_customer', 'negative_call_cente...</td>\n",
       "    </tr>\n",
       "    <tr>\n",
       "      <th>199</th>\n",
       "      <td>199</td>\n",
       "      <td>i was an employee so i had free services i don...</td>\n",
       "      <td>['not_interested', 'owes_nothing', 'already_cu...</td>\n",
       "    </tr>\n",
       "  </tbody>\n",
       "</table>\n",
       "<p>200 rows × 3 columns</p>\n",
       "</div>"
      ],
      "text/plain": [
       "     Unnamed: 0                                             phrase  \\\n",
       "0             0  i heard you guys were the best out there right...   \n",
       "1             1  i didn't schedule a phone call for todayi said...   \n",
       "2             2  no stop bothering me i don't have credit probl...   \n",
       "3             3  that is generous of you but 50 per month is no...   \n",
       "4             4  i hope you guys aren't taking my money again i...   \n",
       "..          ...                                                ...   \n",
       "195         195  i was interested in you credit assistance but ...   \n",
       "196         196  thank you i am interested in fixing my credit ...   \n",
       "197         197  my mother is in the hospital at this time she ...   \n",
       "198         198  i wasn't overly happy with your service no pro...   \n",
       "199         199  i was an employee so i had free services i don...   \n",
       "\n",
       "                                               intents  \n",
       "0        ['is_interested', 'schedule_call_day_n_time']  \n",
       "1    ['delay_will_reply', 'dnc', 'scheduling_mistak...  \n",
       "2                            ['dnc', 'not_interested']  \n",
       "3    ['cost_too_high', 'is_interested', 'how_does_i...  \n",
       "4          ['existing_customer_issue', 'needs_income']  \n",
       "..                                                 ...  \n",
       "195  ['cost_too_high', 'is_interested', 'needs_inco...  \n",
       "196  ['courtesy_or_statement', 'is_interested', 'cr...  \n",
       "197                ['delay_sick', 'delay_conditional']  \n",
       "198  ['dissatisfied_customer', 'negative_call_cente...  \n",
       "199  ['not_interested', 'owes_nothing', 'already_cu...  \n",
       "\n",
       "[200 rows x 3 columns]"
      ]
     },
     "execution_count": 41,
     "metadata": {},
     "output_type": "execute_result"
    }
   ],
   "source": [
    "pd.read_csv(\"/home/song/Desktop/Multi-Intents-Detection/data/Aktify/test_credit.csv\",lineterminator=\"\\n\" )"
   ]
  },
  {
   "cell_type": "code",
   "execution_count": null,
   "metadata": {},
   "outputs": [],
   "source": []
  },
  {
   "cell_type": "code",
   "execution_count": null,
   "metadata": {},
   "outputs": [],
   "source": []
  },
  {
   "cell_type": "code",
   "execution_count": null,
   "metadata": {},
   "outputs": [],
   "source": [
    "\n"
   ]
  }
 ],
 "metadata": {
  "kernelspec": {
   "display_name": "Python 3",
   "language": "python",
   "name": "python3"
  },
  "language_info": {
   "codemirror_mode": {
    "name": "ipython",
    "version": 3
   },
   "file_extension": ".py",
   "mimetype": "text/x-python",
   "name": "python",
   "nbconvert_exporter": "python",
   "pygments_lexer": "ipython3",
   "version": "3.7.6"
  }
 },
 "nbformat": 4,
 "nbformat_minor": 4
}
