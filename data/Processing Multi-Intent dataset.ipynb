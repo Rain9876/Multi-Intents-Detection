{
 "cells": [
  {
   "cell_type": "code",
   "execution_count": 1,
   "metadata": {},
   "outputs": [],
   "source": [
    "import pandas as pd\n",
    "import numpy as np\n",
    "import sys\n",
    "import torch"
   ]
  },
  {
   "cell_type": "code",
   "execution_count": 119,
   "metadata": {},
   "outputs": [],
   "source": [
    "with open(\"./MixSNIPS_clean/test.txt\",\"r\") as f:\n",
    "    obj = f.readlines()"
   ]
  },
  {
   "cell_type": "code",
   "execution_count": 120,
   "metadata": {},
   "outputs": [],
   "source": [
    "def processing(content):\n",
    "    text = []\n",
    "    slot = []\n",
    "    intent = []\n",
    "    \n",
    "    text_tmp = \"\"\n",
    "    slot_tmp = []\n",
    "        \n",
    "    for i in content:\n",
    "        temp = i.strip(\"\\n\")\n",
    "        if len(temp) == 0 :\n",
    "            text.append(text_tmp.strip())\n",
    "            slot.append(slot_tmp)\n",
    "            text_tmp = \"\"\n",
    "            slot_tmp = []\n",
    "            \n",
    "        line = temp.split()\n",
    "        if len(line) == 1:\n",
    "            intent.append(temp.split(\"#\"))\n",
    "        elif len(line) > 1:\n",
    "            text_tmp += f\"{line[0]} \"\n",
    "            slot_tmp.append(line[1])\n",
    "            \n",
    "    return text, slot, intent"
   ]
  },
  {
   "cell_type": "code",
   "execution_count": 121,
   "metadata": {},
   "outputs": [],
   "source": [
    "text, slot, intent = processing(obj)"
   ]
  },
  {
   "cell_type": "code",
   "execution_count": 122,
   "metadata": {},
   "outputs": [],
   "source": [
    "def multilabel2one_hot(labels, nums):\n",
    "    res = [0.] * nums\n",
    "    if len(labels) == 0:\n",
    "        return res\n",
    "    if isinstance(labels[0], list):\n",
    "        for label in labels[0]:\n",
    "            res[label] = 1.\n",
    "        return res\n",
    "    for label in labels:\n",
    "        res[label] = 1.\n",
    "    return res\n",
    "\n",
    "\n",
    "def instance2onehot(func, num_intent, data):\n",
    "    res = []\n",
    "    for intents in func(data):\n",
    "        res.append(multilabel2one_hot(intents, num_intent))\n",
    "    return np.array(res)"
   ]
  },
  {
   "cell_type": "code",
   "execution_count": 123,
   "metadata": {},
   "outputs": [],
   "source": [
    "# from collections import OrderedDict\n",
    "# from ordered_set import OrderedSet\n",
    "\n",
    "# class vocab_sheet(object):\n",
    "\n",
    "#     def __init__(self, labels):\n",
    "    \n",
    "#         self.index2instance = OrderedSet()\n",
    "#         self.instance2index = OrderedDict()\n",
    "#         self.one_hot = []\n",
    "    \n",
    "#     def build_vocab(self):\n",
    "#         pass"
   ]
  },
  {
   "cell_type": "code",
   "execution_count": 124,
   "metadata": {},
   "outputs": [],
   "source": [
    "index2instance = list(set([j for i in intent for j in i]))\n",
    "instance2index = {j:i for i,j in enumerate(index2instance)}"
   ]
  },
  {
   "cell_type": "code",
   "execution_count": 125,
   "metadata": {},
   "outputs": [],
   "source": [
    "def one_hot_mapping(labels):\n",
    "    one_hot = []\n",
    "    for label in labels:\n",
    "        tmp = [0.] * len(instance2index)\n",
    "        for i in label:\n",
    "            tmp[instance2index[i]] = 1\n",
    "        one_hot.append(tmp)\n",
    "\n",
    "    return torch.tensor(one_hot)"
   ]
  },
  {
   "cell_type": "code",
   "execution_count": 126,
   "metadata": {},
   "outputs": [
    {
     "data": {
      "text/plain": [
       "tensor([[0., 1., 0.,  ..., 0., 0., 0.],\n",
       "        [0., 0., 1.,  ..., 0., 1., 0.],\n",
       "        [0., 1., 0.,  ..., 0., 0., 1.],\n",
       "        ...,\n",
       "        [1., 0., 0.,  ..., 1., 0., 0.],\n",
       "        [0., 0., 0.,  ..., 0., 1., 0.],\n",
       "        [1., 0., 0.,  ..., 1., 0., 0.]])"
      ]
     },
     "execution_count": 126,
     "metadata": {},
     "output_type": "execute_result"
    }
   ],
   "source": [
    "one_hot_mapping(intent)"
   ]
  },
  {
   "cell_type": "code",
   "execution_count": 127,
   "metadata": {},
   "outputs": [
    {
     "data": {
      "text/plain": [
       "['GetWeather',\n",
       " 'PlayMusic',\n",
       " 'SearchCreativeWork',\n",
       " 'AddToPlaylist',\n",
       " 'RateBook',\n",
       " 'BookRestaurant',\n",
       " 'SearchScreeningEvent']"
      ]
     },
     "execution_count": 127,
     "metadata": {},
     "output_type": "execute_result"
    }
   ],
   "source": [
    "index2instance"
   ]
  },
  {
   "cell_type": "code",
   "execution_count": 128,
   "metadata": {},
   "outputs": [
    {
     "data": {
      "text/plain": [
       "7"
      ]
     },
     "execution_count": 128,
     "metadata": {},
     "output_type": "execute_result"
    }
   ],
   "source": [
    "len(instance2index)"
   ]
  },
  {
   "cell_type": "code",
   "execution_count": 118,
   "metadata": {},
   "outputs": [],
   "source": [
    "index2instance_train = index2instance"
   ]
  },
  {
   "cell_type": "code",
   "execution_count": 107,
   "metadata": {},
   "outputs": [],
   "source": [
    "index2instance_dev = index2instance"
   ]
  },
  {
   "cell_type": "code",
   "execution_count": 129,
   "metadata": {},
   "outputs": [],
   "source": [
    "index2instance_test = index2instance"
   ]
  },
  {
   "cell_type": "code",
   "execution_count": 130,
   "metadata": {},
   "outputs": [],
   "source": [
    "index2instance = set(index2instance_train +index2instance_dev +index2instance_test)"
   ]
  },
  {
   "cell_type": "code",
   "execution_count": 131,
   "metadata": {},
   "outputs": [
    {
     "data": {
      "text/plain": [
       "{'AddToPlaylist',\n",
       " 'BookRestaurant',\n",
       " 'GetWeather',\n",
       " 'PlayMusic',\n",
       " 'RateBook',\n",
       " 'SearchCreativeWork',\n",
       " 'SearchScreeningEvent'}"
      ]
     },
     "execution_count": 131,
     "metadata": {},
     "output_type": "execute_result"
    }
   ],
   "source": [
    "index2instance"
   ]
  },
  {
   "cell_type": "code",
   "execution_count": 12,
   "metadata": {},
   "outputs": [],
   "source": [
    "f = open(f\"./vocab.txt\",\"w\")\n",
    "f.writelines([line + \"\\n\" for line in index2instance])\n",
    "f.close()"
   ]
  },
  {
   "cell_type": "code",
   "execution_count": 13,
   "metadata": {},
   "outputs": [
    {
     "data": {
      "text/plain": [
       "['GetWeather',\n",
       " 'SearchCreativeWork',\n",
       " 'PlayMusic',\n",
       " 'AddToPlaylist',\n",
       " 'RateBook',\n",
       " 'SearchScreeningEvent',\n",
       " 'BookRestaurant']"
      ]
     },
     "execution_count": 13,
     "metadata": {},
     "output_type": "execute_result"
    }
   ],
   "source": [
    "f = open(f\"./vocab.txt\", \"r\")\n",
    "f.read().splitlines()"
   ]
  },
  {
   "cell_type": "code",
   "execution_count": null,
   "metadata": {},
   "outputs": [],
   "source": []
  },
  {
   "cell_type": "code",
   "execution_count": null,
   "metadata": {},
   "outputs": [],
   "source": [
    "# Evaluation"
   ]
  },
  {
   "cell_type": "code",
   "execution_count": 134,
   "metadata": {},
   "outputs": [
    {
     "name": "stderr",
     "output_type": "stream",
     "text": [
      "UsageError: Line magic function `%inline` not found.\n"
     ]
    }
   ],
   "source": [
    "from matplotlib import pyplot as plt\n",
    "%inline"
   ]
  },
  {
   "cell_type": "code",
   "execution_count": null,
   "metadata": {},
   "outputs": [],
   "source": []
  }
 ],
 "metadata": {
  "kernelspec": {
   "display_name": "Python 3",
   "language": "python",
   "name": "python3"
  },
  "language_info": {
   "codemirror_mode": {
    "name": "ipython",
    "version": 3
   },
   "file_extension": ".py",
   "mimetype": "text/x-python",
   "name": "python",
   "nbconvert_exporter": "python",
   "pygments_lexer": "ipython3",
   "version": "3.7.6"
  }
 },
 "nbformat": 4,
 "nbformat_minor": 2
}
